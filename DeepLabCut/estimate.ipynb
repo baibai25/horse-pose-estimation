{
 "cells": [
  {
   "cell_type": "code",
   "execution_count": null,
   "metadata": {},
   "outputs": [],
   "source": [
    "# Ref. https://github.com/DeepLabCut/DeepLabCut/tree/main/examples"
   ]
  },
  {
   "cell_type": "code",
   "execution_count": null,
   "metadata": {},
   "outputs": [],
   "source": [
    "import deeplabcut"
   ]
  },
  {
   "cell_type": "code",
   "execution_count": null,
   "metadata": {},
   "outputs": [],
   "source": [
    "# filepath = \"./data/DSCF1285.mp4\"\n",
    "filepath = \"/home/yata/Videos/ooi/a.mp4\"\n",
    "video_path = os.path.abspath(filepath)\n",
    "print(video_path)"
   ]
  },
  {
   "cell_type": "code",
   "execution_count": null,
   "metadata": {},
   "outputs": [],
   "source": [
    "deeplabcut.create_project.modelzoo.Modeloptions"
   ]
  },
  {
   "cell_type": "code",
   "execution_count": null,
   "metadata": {},
   "outputs": [],
   "source": [
    "project_name = \"myDLC_modelZoo\"\n",
    "your_name = \"teamDLC\"\n",
    "model2use = \"horse_sideview\"\n",
    "videotype = os.path.splitext(video_path)[-1].lstrip(\n",
    "    \".\"\n",
    ")  # or MOV, or avi, whatever you uploaded!"
   ]
  },
  {
   "cell_type": "code",
   "execution_count": null,
   "metadata": {},
   "outputs": [],
   "source": [
    "# resize video\n",
    "video_path = deeplabcut.DownSampleVideo(video_path, width=600)\n",
    "print(video_path)"
   ]
  },
  {
   "cell_type": "code",
   "execution_count": null,
   "metadata": {},
   "outputs": [],
   "source": [
    "config_path, train_config_path = deeplabcut.create_pretrained_project(\n",
    "    project_name,\n",
    "    your_name,\n",
    "    [video_path],\n",
    "    videotype=videotype,\n",
    "    model=model2use,\n",
    "    analyzevideo=True,\n",
    "    createlabeledvideo=True,\n",
    "    copy_videos=True,  # must leave copy_videos=True\n",
    ")"
   ]
  },
  {
   "cell_type": "code",
   "execution_count": null,
   "metadata": {},
   "outputs": [],
   "source": [
    "# more advanced option\n",
    "# Updating the plotting within the config.yaml file (without opening it ;):\n",
    "edits = {\n",
    "    \"dotsize\": 2,  # size of the dots!\n",
    "    \"colormap\": \"spring\",  # any matplotlib colormap!\n",
    "    \"pcutoff\": 0.5,  # the higher the more conservative the plotting!\n",
    "}\n",
    "deeplabcut.auxiliaryfunctions.edit_config(config_path, edits)"
   ]
  },
  {
   "cell_type": "code",
   "execution_count": null,
   "metadata": {},
   "outputs": [],
   "source": [
    "# re-create the labeled video (first you will need to delete in the folder to the LEFT!):\n",
    "project_path = os.path.dirname(config_path)\n",
    "full_video_path = os.path.join(\n",
    "    project_path,\n",
    "    'videos',\n",
    "    os.path.basename(video_path),\n",
    ")\n",
    "\n",
    "# filter predictions (should already be done above ;):\n",
    "deeplabcut.filterpredictions(config_path, [full_video_path], videotype=videotype)\n",
    "\n",
    "# re-create the video with your edits!\n",
    "deeplabcut.create_labeled_video(\n",
    "    config_path, [full_video_path], videotype=videotype, filtered=True\n",
    ")"
   ]
  },
  {
   "cell_type": "code",
   "execution_count": null,
   "metadata": {},
   "outputs": [],
   "source": []
  }
 ],
 "metadata": {
  "kernelspec": {
   "display_name": "Python 3.8.15 ('DEEPLABCUT')",
   "language": "python",
   "name": "python3"
  },
  "language_info": {
   "codemirror_mode": {
    "name": "ipython",
    "version": 3
   },
   "file_extension": ".py",
   "mimetype": "text/x-python",
   "name": "python",
   "nbconvert_exporter": "python",
   "pygments_lexer": "ipython3",
   "version": "3.8.15"
  },
  "vscode": {
   "interpreter": {
    "hash": "f3ae8fb7e0f22a68f9d48b207b9556f7f465203e32321fddcc5e10518daf9f74"
   }
  }
 },
 "nbformat": 4,
 "nbformat_minor": 2
}
