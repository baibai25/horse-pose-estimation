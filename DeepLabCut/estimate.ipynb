{
 "cells": [
  {
   "cell_type": "code",
   "execution_count": 1,
   "metadata": {},
   "outputs": [],
   "source": [
    "# Ref. https://github.com/DeepLabCut/DeepLabCut/tree/main/examples"
   ]
  },
  {
   "cell_type": "code",
   "execution_count": 2,
   "metadata": {},
   "outputs": [
    {
     "name": "stderr",
     "output_type": "stream",
     "text": [
      "2022-11-29 20:31:54.447173: I tensorflow/core/platform/cpu_feature_guard.cc:193] This TensorFlow binary is optimized with oneAPI Deep Neural Network Library (oneDNN) to use the following CPU instructions in performance-critical operations:  AVX2 FMA\n",
      "To enable them in other operations, rebuild TensorFlow with the appropriate compiler flags.\n",
      "2022-11-29 20:31:55.051712: W tensorflow/compiler/xla/stream_executor/platform/default/dso_loader.cc:64] Could not load dynamic library 'libnvinfer.so.7'; dlerror: libnvinfer.so.7: cannot open shared object file: No such file or directory; LD_LIBRARY_PATH: /usr/local/cuda/lib64:\n",
      "2022-11-29 20:31:55.051771: W tensorflow/compiler/xla/stream_executor/platform/default/dso_loader.cc:64] Could not load dynamic library 'libnvinfer_plugin.so.7'; dlerror: libnvinfer_plugin.so.7: cannot open shared object file: No such file or directory; LD_LIBRARY_PATH: /usr/local/cuda/lib64:\n",
      "2022-11-29 20:31:55.051776: W tensorflow/compiler/tf2tensorrt/utils/py_utils.cc:38] TF-TRT Warning: Cannot dlopen some TensorRT libraries. If you would like to use Nvidia GPU with TensorRT, please make sure the missing libraries mentioned above are installed properly.\n"
     ]
    },
    {
     "name": "stdout",
     "output_type": "stream",
     "text": [
      "Loading DLC 2.3rc3...\n",
      "DLC loaded in light mode; you cannot use any GUI (labeling, relabeling and standalone GUI)\n"
     ]
    }
   ],
   "source": [
    "import os\n",
    "\n",
    "import deeplabcut"
   ]
  },
  {
   "cell_type": "code",
   "execution_count": 3,
   "metadata": {},
   "outputs": [
    {
     "name": "stdout",
     "output_type": "stream",
     "text": [
      "/home/yata/Desktop/horse-pose-estimation/DeepLabCut/data/DSCF1285.mp4\n"
     ]
    }
   ],
   "source": [
    "filepath = \"./data/DSCF1285.mp4\"\n",
    "video_path = os.path.abspath(filepath)\n",
    "print(video_path)"
   ]
  },
  {
   "cell_type": "code",
   "execution_count": 4,
   "metadata": {},
   "outputs": [
    {
     "data": {
      "text/plain": [
       "['full_human',\n",
       " 'full_cat',\n",
       " 'full_dog',\n",
       " 'primate_face',\n",
       " 'mouse_pupil_vclose',\n",
       " 'horse_sideview',\n",
       " 'full_macaque']"
      ]
     },
     "execution_count": 4,
     "metadata": {},
     "output_type": "execute_result"
    }
   ],
   "source": [
    "deeplabcut.create_project.modelzoo.Modeloptions"
   ]
  },
  {
   "cell_type": "code",
   "execution_count": 5,
   "metadata": {},
   "outputs": [],
   "source": [
    "project_name = \"myDLC_modelZoo\"\n",
    "your_name = \"teamDLC\"\n",
    "model2use = \"horse_sideview\"\n",
    "videotype = os.path.splitext(video_path)[-1].lstrip(\n",
    "    \".\"\n",
    ")  # or MOV, or avi, whatever you uploaded!"
   ]
  },
  {
   "cell_type": "code",
   "execution_count": 6,
   "metadata": {},
   "outputs": [
    {
     "name": "stdout",
     "output_type": "stream",
     "text": [
      "/home/yata/Desktop/horse-pose-estimation/DeepLabCut/data/DSCF1285downsampled.mp4\n"
     ]
    },
    {
     "name": "stderr",
     "output_type": "stream",
     "text": [
      "ffmpeg version 5.1.2 Copyright (c) 2000-2022 the FFmpeg developers\n",
      "  built with gcc 10.4.0 (conda-forge gcc 10.4.0-18)\n",
      "  configuration: --prefix=/home/yata/anaconda3/envs/DEEPLABCUT --cc=/home/conda/feedstock_root/build_artifacts/ffmpeg_1666357487580/_build_env/bin/x86_64-conda-linux-gnu-cc --cxx=/home/conda/feedstock_root/build_artifacts/ffmpeg_1666357487580/_build_env/bin/x86_64-conda-linux-gnu-c++ --nm=/home/conda/feedstock_root/build_artifacts/ffmpeg_1666357487580/_build_env/bin/x86_64-conda-linux-gnu-nm --ar=/home/conda/feedstock_root/build_artifacts/ffmpeg_1666357487580/_build_env/bin/x86_64-conda-linux-gnu-ar --disable-doc --disable-openssl --enable-demuxer=dash --enable-hardcoded-tables --enable-libfreetype --enable-libfontconfig --enable-libopenh264 --enable-gnutls --enable-libmp3lame --enable-libvpx --enable-pthreads --enable-vaapi --enable-gpl --enable-libx264 --enable-libx265 --enable-libaom --enable-libsvtav1 --enable-libxml2 --enable-pic --enable-shared --disable-static --enable-version3 --enable-zlib --pkg-config=/home/conda/feedstock_root/build_artifacts/ffmpeg_1666357487580/_build_env/bin/pkg-config\n",
      "  libavutil      57. 28.100 / 57. 28.100\n",
      "  libavcodec     59. 37.100 / 59. 37.100\n",
      "  libavformat    59. 27.100 / 59. 27.100\n",
      "  libavdevice    59.  7.100 / 59.  7.100\n",
      "  libavfilter     8. 44.100 /  8. 44.100\n",
      "  libswscale      6.  7.100 /  6.  7.100\n",
      "  libswresample   4.  7.100 /  4.  7.100\n",
      "  libpostproc    56.  6.100 / 56.  6.100\n",
      "Input #0, mov,mp4,m4a,3gp,3g2,mj2, from '/home/yata/Desktop/horse-pose-estimation/DeepLabCut/data/DSCF1285.mp4':\n",
      "  Metadata:\n",
      "    major_brand     : mp42\n",
      "    minor_version   : 0\n",
      "    compatible_brands: mp42\n",
      "    creation_time   : 2022-11-26T14:28:49.000000Z\n",
      "    original_format : Digital Camera\n",
      "    original_format-eng: Digital Camera\n",
      "    comment         : FUJIFILM DIGITAL CAMERA X-S10\n",
      "    comment-eng     : FUJIFILM DIGITAL CAMERA X-S10\n",
      "  Duration: 00:01:12.07, start: 0.000000, bitrate: 102917 kb/s\n",
      "  Stream #0:0[0x1](eng): Video: h264 (High) (avc1 / 0x31637661), yuvj420p(pc, smpte170m/bt709/smpte170m, progressive), 1920x1080, 101733 kb/s, 59.94 fps, 59.94 tbr, 60k tbn (default)\n",
      "    Metadata:\n",
      "      creation_time   : 2022-11-26T14:28:49.000000Z\n",
      "      vendor_id       : [0][0][0][0]\n",
      "      encoder         : AVC Coding\n",
      "      timecode        : 00:00:11;00\n",
      "  Stream #0:1[0x2](eng): Audio: aac (LC) (mp4a / 0x6134706D), 48000 Hz, stereo, fltp, 128 kb/s (default)\n",
      "    Metadata:\n",
      "      creation_time   : 2022-11-26T14:28:49.000000Z\n",
      "      vendor_id       : [0][0][0][0]\n",
      "      timecode        : 00:00:11;00\n",
      "  Stream #0:2[0x3](eng): Data: none (tmcd / 0x64636D74), 1 kb/s (default)\n",
      "    Metadata:\n",
      "      creation_time   : 2022-11-26T14:28:49.000000Z\n",
      "      timecode        : 00:00:11;00\n",
      "File '/home/yata/Desktop/horse-pose-estimation/DeepLabCut/data/DSCF1285downsampled.mp4' already exists. Exiting.\n"
     ]
    }
   ],
   "source": [
    "# resize video\n",
    "video_path = deeplabcut.DownSampleVideo(video_path, width=300)\n",
    "print(video_path)"
   ]
  },
  {
   "cell_type": "code",
   "execution_count": 7,
   "metadata": {},
   "outputs": [
    {
     "name": "stdout",
     "output_type": "stream",
     "text": [
      "Created \"/home/yata/Desktop/horse-pose-estimation/DeepLabCut/myDLC_modelZoo-teamDLC-2022-11-29/videos\"\n",
      "Created \"/home/yata/Desktop/horse-pose-estimation/DeepLabCut/myDLC_modelZoo-teamDLC-2022-11-29/labeled-data\"\n",
      "Created \"/home/yata/Desktop/horse-pose-estimation/DeepLabCut/myDLC_modelZoo-teamDLC-2022-11-29/training-datasets\"\n",
      "Created \"/home/yata/Desktop/horse-pose-estimation/DeepLabCut/myDLC_modelZoo-teamDLC-2022-11-29/dlc-models\"\n",
      "Copying the videos\n",
      "/home/yata/Desktop/horse-pose-estimation/DeepLabCut/myDLC_modelZoo-teamDLC-2022-11-29/videos/DSCF1285downsampled.mp4\n",
      "Generated \"/home/yata/Desktop/horse-pose-estimation/DeepLabCut/myDLC_modelZoo-teamDLC-2022-11-29/config.yaml\"\n",
      "\n",
      "A new project with name myDLC_modelZoo-teamDLC-2022-11-29 is created at /home/yata/Desktop/horse-pose-estimation/DeepLabCut and a configurable file (config.yaml) is stored there. Change the parameters in this file to adapt to your project's needs.\n",
      " Once you have changed the configuration file, use the function 'extract_frames' to select frames for labeling.\n",
      ". [OPTIONAL] Use the function 'add_new_videos' to add new videos to your project (at any stage).\n",
      "Downloading weights...\n",
      "Loading.... horse_sideview\n"
     ]
    },
    {
     "data": {
      "application/vnd.jupyter.widget-view+json": {
       "model_id": "bdc5760eb2ea47b88bba15c8463f1300",
       "version_major": 2,
       "version_minor": 0
      },
      "text/plain": [
       "Downloading:   0%|          | 0.00/354M [00:00<?, ?B/s]"
      ]
     },
     "metadata": {},
     "output_type": "display_data"
    },
    {
     "name": "stdout",
     "output_type": "stream",
     "text": [
      "/home/yata/Desktop/horse-pose-estimation/DeepLabCut/myDLC_modelZoo-teamDLC-2022-11-29/dlc-models/iteration-0/myDLC_modelZooNov29-trainset95shuffle1/train/pose_cfg.yaml\n",
      "Analyzing video...\n",
      "Using snapshot-60000 for model /home/yata/Desktop/horse-pose-estimation/DeepLabCut/myDLC_modelZoo-teamDLC-2022-11-29/dlc-models/iteration-0/myDLC_modelZooNov29-trainset95shuffle1\n"
     ]
    },
    {
     "name": "stderr",
     "output_type": "stream",
     "text": [
      "/home/yata/anaconda3/envs/DEEPLABCUT/lib/python3.8/site-packages/tensorflow/python/keras/engine/base_layer_v1.py:1694: UserWarning: `layer.apply` is deprecated and will be removed in a future version. Please use `layer.__call__` method instead.\n",
      "  warnings.warn('`layer.apply` is deprecated and '\n",
      "2022-11-29 20:32:12.606648: I tensorflow/compiler/xla/stream_executor/cuda/cuda_gpu_executor.cc:981] successful NUMA node read from SysFS had negative value (-1), but there must be at least one NUMA node, so returning NUMA node zero\n",
      "2022-11-29 20:32:12.612700: I tensorflow/compiler/xla/stream_executor/cuda/cuda_gpu_executor.cc:981] successful NUMA node read from SysFS had negative value (-1), but there must be at least one NUMA node, so returning NUMA node zero\n",
      "2022-11-29 20:32:12.612880: I tensorflow/compiler/xla/stream_executor/cuda/cuda_gpu_executor.cc:981] successful NUMA node read from SysFS had negative value (-1), but there must be at least one NUMA node, so returning NUMA node zero\n",
      "2022-11-29 20:32:12.613339: I tensorflow/core/platform/cpu_feature_guard.cc:193] This TensorFlow binary is optimized with oneAPI Deep Neural Network Library (oneDNN) to use the following CPU instructions in performance-critical operations:  AVX2 FMA\n",
      "To enable them in other operations, rebuild TensorFlow with the appropriate compiler flags.\n",
      "2022-11-29 20:32:12.613842: I tensorflow/compiler/xla/stream_executor/cuda/cuda_gpu_executor.cc:981] successful NUMA node read from SysFS had negative value (-1), but there must be at least one NUMA node, so returning NUMA node zero\n",
      "2022-11-29 20:32:12.614000: I tensorflow/compiler/xla/stream_executor/cuda/cuda_gpu_executor.cc:981] successful NUMA node read from SysFS had negative value (-1), but there must be at least one NUMA node, so returning NUMA node zero\n",
      "2022-11-29 20:32:12.614139: I tensorflow/compiler/xla/stream_executor/cuda/cuda_gpu_executor.cc:981] successful NUMA node read from SysFS had negative value (-1), but there must be at least one NUMA node, so returning NUMA node zero\n",
      "2022-11-29 20:32:13.034705: I tensorflow/compiler/xla/stream_executor/cuda/cuda_gpu_executor.cc:981] successful NUMA node read from SysFS had negative value (-1), but there must be at least one NUMA node, so returning NUMA node zero\n",
      "2022-11-29 20:32:13.034945: I tensorflow/compiler/xla/stream_executor/cuda/cuda_gpu_executor.cc:981] successful NUMA node read from SysFS had negative value (-1), but there must be at least one NUMA node, so returning NUMA node zero\n",
      "2022-11-29 20:32:13.035090: I tensorflow/compiler/xla/stream_executor/cuda/cuda_gpu_executor.cc:981] successful NUMA node read from SysFS had negative value (-1), but there must be at least one NUMA node, so returning NUMA node zero\n",
      "2022-11-29 20:32:13.035194: I tensorflow/core/common_runtime/gpu/gpu_device.cc:1613] Created device /job:localhost/replica:0/task:0/device:GPU:0 with 4686 MB memory:  -> device: 0, name: NVIDIA GeForce RTX 2080, pci bus id: 0000:02:00.0, compute capability: 7.5\n",
      "2022-11-29 20:32:13.056544: I tensorflow/compiler/mlir/mlir_graph_optimization_pass.cc:357] MLIR V1 optimization pass is not enabled\n"
     ]
    },
    {
     "name": "stdout",
     "output_type": "stream",
     "text": [
      "Analyzing all the videos in the directory...\n",
      "Starting to analyze %  /home/yata/Desktop/horse-pose-estimation/DeepLabCut/myDLC_modelZoo-teamDLC-2022-11-29/videos/DSCF1285downsampled.mp4\n",
      "Loading  /home/yata/Desktop/horse-pose-estimation/DeepLabCut/myDLC_modelZoo-teamDLC-2022-11-29/videos/DSCF1285downsampled.mp4\n",
      "Duration of video [s]:  72.07 , recorded with  59.94 fps!\n",
      "Overall # of frames:  4320  found with (before cropping) frame dimensions:  300 200\n",
      "Starting to extract posture\n"
     ]
    },
    {
     "name": "stderr",
     "output_type": "stream",
     "text": [
      "  0%|          | 0/4320 [00:00<?, ?it/s]2022-11-29 20:32:14.522190: I tensorflow/compiler/xla/stream_executor/cuda/cuda_dnn.cc:428] Loaded cuDNN version 8500\n",
      "100%|██████████| 4320/4320 [00:21<00:00, 202.49it/s]\n"
     ]
    },
    {
     "name": "stdout",
     "output_type": "stream",
     "text": [
      "Saving results in /home/yata/Desktop/horse-pose-estimation/DeepLabCut/myDLC_modelZoo-teamDLC-2022-11-29/videos...\n",
      "Saving csv poses!\n",
      "The videos are analyzed. Now your research can truly start! \n",
      " You can create labeled videos with 'create_labeled_video'\n",
      "If the tracking is not satisfactory for some videos, consider expanding the training set. You can use the function 'extract_outlier_frames' to extract a few representative outlier frames.\n",
      "Analyzing all the videos in the directory...\n",
      "Filtering with median model /home/yata/Desktop/horse-pose-estimation/DeepLabCut/myDLC_modelZoo-teamDLC-2022-11-29/videos/DSCF1285downsampled.mp4\n",
      "Saving filtered csv poses!\n",
      "Plotting results...\n",
      "Analyzing all the videos in the directory...\n",
      "Starting to process video: /home/yata/Desktop/horse-pose-estimation/DeepLabCut/myDLC_modelZoo-teamDLC-2022-11-29/videos/DSCF1285downsampled.mp4\n",
      "Loading /home/yata/Desktop/horse-pose-estimation/DeepLabCut/myDLC_modelZoo-teamDLC-2022-11-29/videos/DSCF1285downsampled.mp4 and data.\n",
      "Duration of video [s]: 72.07, recorded with 59.94 fps!\n",
      "Overall # of frames: 4320 with cropped frame dimensions: 300 200\n",
      "Generating frames and creating video.\n"
     ]
    },
    {
     "name": "stderr",
     "output_type": "stream",
     "text": [
      "100%|██████████| 4320/4320 [00:06<00:00, 670.43it/s] \n"
     ]
    },
    {
     "name": "stdout",
     "output_type": "stream",
     "text": [
      "Analyzing all the videos in the directory...\n",
      "Loading  /home/yata/Desktop/horse-pose-estimation/DeepLabCut/myDLC_modelZoo-teamDLC-2022-11-29/videos/DSCF1285downsampled.mp4 and data.\n",
      "Plots created! Please check the directory \"plot-poses\" within the video directory\n"
     ]
    }
   ],
   "source": [
    "config_path, train_config_path = deeplabcut.create_pretrained_project(\n",
    "    project_name,\n",
    "    your_name,\n",
    "    [video_path],\n",
    "    videotype=videotype,\n",
    "    model=model2use,\n",
    "    analyzevideo=True,\n",
    "    createlabeledvideo=True,\n",
    "    copy_videos=True,  # must leave copy_videos=True\n",
    ")"
   ]
  },
  {
   "cell_type": "code",
   "execution_count": 8,
   "metadata": {},
   "outputs": [
    {
     "data": {
      "text/plain": [
       "ordereddict([('Task', 'myDLC_modelZoo'), ('scorer', 'teamDLC'), ('date', 'Nov29'), ('multianimalproject', False), ('identity', None), ('project_path', '/home/yata/Desktop/horse-pose-estimation/DeepLabCut/myDLC_modelZoo-teamDLC-2022-11-29'), ('video_sets', ordereddict([('/home/yata/Desktop/horse-pose-estimation/DeepLabCut/myDLC_modelZoo-teamDLC-2022-11-29/videos/DSCF1285downsampled.mp4', ordereddict([('crop', '0, 300, 0, 200')]))])), ('bodyparts', ['Nose', 'Eye', 'Nearknee', 'Nearfrontfetlock', 'Nearfrontfoot', 'Offknee', 'Offfrontfetlock', 'Offfrontfoot', 'Shoulder', 'Midshoulder', 'Elbow', 'Girth', 'Wither', 'Nearhindhock', 'Nearhindfetlock', 'Nearhindfoot', 'Hip', 'Stifle', 'Offhindhock', 'Offhindfetlock', 'Offhindfoot', 'Ischium']), ('start', 0), ('stop', 1), ('numframes2pick', 20), ('skeleton', [['bodypart1', 'bodypart2'], ['objectA', 'bodypart3']]), ('skeleton_color', 'black'), ('pcutoff', 0.5), ('dotsize', 7), ('alphavalue', 0.7), ('colormap', 'spring'), ('TrainingFraction', [0.95]), ('iteration', 0), ('default_net_type', 'resnet_50'), ('default_augmenter', 'imgaug'), ('snapshotindex', -1), ('batch_size', 8), ('cropping', False), ('x1', 0), ('x2', 640), ('y1', 277), ('y2', 624), ('corner2move2', [50, 50]), ('move2corner', True)])"
      ]
     },
     "execution_count": 8,
     "metadata": {},
     "output_type": "execute_result"
    }
   ],
   "source": [
    "# more advanced option\n",
    "# Updating the plotting within the config.yaml file (without opening it ;):\n",
    "edits = {\n",
    "    \"dotsize\": 7,  # size of the dots!\n",
    "    \"colormap\": \"spring\",  # any matplotlib colormap!\n",
    "    \"pcutoff\": 0.5,  # the higher the more conservative the plotting!\n",
    "}\n",
    "deeplabcut.auxiliaryfunctions.edit_config(config_path, edits)"
   ]
  },
  {
   "cell_type": "code",
   "execution_count": 10,
   "metadata": {},
   "outputs": [
    {
     "name": "stdout",
     "output_type": "stream",
     "text": [
      "Filtering with median model /home/yata/Desktop/horse-pose-estimation/DeepLabCut/myDLC_modelZoo-teamDLC-2022-11-29/videos/DSCF1285downsampled.mp4\n",
      "Data from DSCF1285downsampled were already filtered. Skipping...\n",
      "Starting to process video: /home/yata/Desktop/horse-pose-estimation/DeepLabCut/myDLC_modelZoo-teamDLC-2022-11-29/videos/DSCF1285downsampled.mp4\n",
      "Loading /home/yata/Desktop/horse-pose-estimation/DeepLabCut/myDLC_modelZoo-teamDLC-2022-11-29/videos/DSCF1285downsampled.mp4 and data.\n",
      "Duration of video [s]: 72.07, recorded with 59.94 fps!\n",
      "Overall # of frames: 4320 with cropped frame dimensions: 300 200\n",
      "Generating frames and creating video.\n"
     ]
    },
    {
     "name": "stderr",
     "output_type": "stream",
     "text": [
      "100%|██████████| 4320/4320 [00:06<00:00, 647.59it/s] \n"
     ]
    }
   ],
   "source": [
    "# re-create the labeled video (first you will need to delete in the folder to the LEFT!):\n",
    "project_path = os.path.dirname(config_path)\n",
    "full_video_path = os.path.join(\n",
    "    project_path,\n",
    "    'videos',\n",
    "    os.path.basename(video_path),\n",
    ")\n",
    "\n",
    "# filter predictions (should already be done above ;):\n",
    "deeplabcut.filterpredictions(config_path, [full_video_path], videotype=videotype)\n",
    "\n",
    "# re-create the video with your edits!\n",
    "deeplabcut.create_labeled_video(\n",
    "    config_path, [full_video_path], videotype=videotype, filtered=True\n",
    ")"
   ]
  },
  {
   "cell_type": "code",
   "execution_count": null,
   "metadata": {},
   "outputs": [],
   "source": []
  }
 ],
 "metadata": {
  "kernelspec": {
   "display_name": "Python 3.8.15 ('DEEPLABCUT')",
   "language": "python",
   "name": "python3"
  },
  "language_info": {
   "codemirror_mode": {
    "name": "ipython",
    "version": 3
   },
   "file_extension": ".py",
   "mimetype": "text/x-python",
   "name": "python",
   "nbconvert_exporter": "python",
   "pygments_lexer": "ipython3",
   "version": "3.8.15"
  },
  "vscode": {
   "interpreter": {
    "hash": "f3ae8fb7e0f22a68f9d48b207b9556f7f465203e32321fddcc5e10518daf9f74"
   }
  }
 },
 "nbformat": 4,
 "nbformat_minor": 2
}
