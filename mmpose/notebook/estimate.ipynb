{
 "cells": [
  {
   "cell_type": "code",
   "execution_count": 1,
   "metadata": {},
   "outputs": [],
   "source": [
    "# git clone "
   ]
  },
  {
   "cell_type": "code",
   "execution_count": 2,
   "metadata": {},
   "outputs": [
    {
     "name": "stderr",
     "output_type": "stream",
     "text": [
      "/home/yata/anaconda3/envs/openmmlab/lib/python3.8/site-packages/tqdm/auto.py:22: TqdmWarning: IProgress not found. Please update jupyter and ipywidgets. See https://ipywidgets.readthedocs.io/en/stable/user_install.html\n",
      "  from .autonotebook import tqdm as notebook_tqdm\n",
      "/home/yata/anaconda3/envs/openmmlab/lib/python3.8/site-packages/mmcv/__init__.py:20: UserWarning: On January 1, 2023, MMCV will release v2.0.0, in which it will remove components related to the training process and add a data transformation module. In addition, it will rename the package names mmcv to mmcv-lite and mmcv-full to mmcv. See https://github.com/open-mmlab/mmcv/blob/master/docs/en/compatibility.md for more details.\n",
      "  warnings.warn(\n"
     ]
    }
   ],
   "source": [
    "import os\n",
    "import warnings\n",
    "\n",
    "import cv2\n",
    "import mmcv\n",
    "\n",
    "from mmpose.apis import (\n",
    "    collect_multi_frames,\n",
    "    inference_top_down_pose_model,\n",
    "    init_pose_model,\n",
    "    process_mmdet_results,\n",
    "    vis_pose_result,\n",
    ")\n",
    "from mmpose.datasets import DatasetInfo\n",
    "\n",
    "try:\n",
    "    from mmdet.apis import inference_detector, init_detector\n",
    "\n",
    "    has_mmdet = True\n",
    "except (ImportError, ModuleNotFoundError):\n",
    "    has_mmdet = False"
   ]
  },
  {
   "cell_type": "markdown",
   "metadata": {},
   "source": [
    "## Config"
   ]
  },
  {
   "cell_type": "code",
   "execution_count": 3,
   "metadata": {},
   "outputs": [],
   "source": [
    "# set detection config\n",
    "det_config = \"../mmdetection_cfg/faster_rcnn_r50_fpn_coco.py\"\n",
    "det_checkpoint = \"https://download.openmmlab.com/mmdetection/v2.0/faster_rcnn/faster_rcnn_r50_fpn_2x_coco/faster_rcnn_r50_fpn_2x_coco_bbox_mAP-0.384_20200504_210434-a5d8aa15.pth\"\n",
    "\n",
    "# set pose config\n",
    "pose_config = \"../../configs/animal/2d_kpt_sview_rgb_img/topdown_heatmap/horse10/res50_horse10_256x256-split1.py\"\n",
    "pose_checkpoint = \"https://download.openmmlab.com/mmpose/animal/resnet/res50_horse10_256x256_split1-3a3dc37e_20210405.pth\""
   ]
  },
  {
   "cell_type": "code",
   "execution_count": 4,
   "metadata": {},
   "outputs": [
    {
     "name": "stdout",
     "output_type": "stream",
     "text": [
      "mkdir: cannot create directory ‘data’: File exists\n",
      "mkdir: cannot create directory ‘output’: File exists\n"
     ]
    }
   ],
   "source": [
    "# set data path\n",
    "!mkdir data output\n",
    "# video_path = \"./data/clip.mp4\"\n",
    "video_path = \"/home/yata/Videos/ooi/IMG_2437.MOV\"\n",
    "out_video_root = \"./output/\""
   ]
  },
  {
   "cell_type": "code",
   "execution_count": 5,
   "metadata": {},
   "outputs": [],
   "source": [
    "# set params\n",
    "# bbox_thr = 0.1 # box thr\n",
    "# kpt_thr = 0.4 # keypint thr\n",
    "bbox_thr = 0.4 # box thr\n",
    "kpt_thr = 0.4 # keypint thr\n",
    "det_cat_id = 18\n",
    "radius = 6\n",
    "thickness = 1\n",
    "\n",
    "show = False\n",
    "use_multi_frames = False\n",
    "online = False"
   ]
  },
  {
   "cell_type": "markdown",
   "metadata": {},
   "source": [
    "## Build model"
   ]
  },
  {
   "cell_type": "code",
   "execution_count": 6,
   "metadata": {},
   "outputs": [
    {
     "name": "stdout",
     "output_type": "stream",
     "text": [
      "Initializing model...\n",
      "load checkpoint from http path: https://download.openmmlab.com/mmdetection/v2.0/faster_rcnn/faster_rcnn_r50_fpn_2x_coco/faster_rcnn_r50_fpn_2x_coco_bbox_mAP-0.384_20200504_210434-a5d8aa15.pth\n"
     ]
    }
   ],
   "source": [
    "print(\"Initializing model...\")\n",
    "# build the detection model from a config file and a checkpoint file\n",
    "det_model = init_detector(det_config, det_checkpoint, device=\"cuda:0\")"
   ]
  },
  {
   "cell_type": "code",
   "execution_count": 7,
   "metadata": {},
   "outputs": [
    {
     "name": "stdout",
     "output_type": "stream",
     "text": [
      "load checkpoint from http path: https://download.openmmlab.com/mmpose/animal/resnet/res50_horse10_256x256_split1-3a3dc37e_20210405.pth\n"
     ]
    }
   ],
   "source": [
    "# build the pose model from a config file and a checkpoint file\n",
    "pose_model = init_pose_model(pose_config, pose_checkpoint, device=\"cuda:0\")"
   ]
  },
  {
   "cell_type": "markdown",
   "metadata": {},
   "source": [
    "## Load data"
   ]
  },
  {
   "cell_type": "code",
   "execution_count": 8,
   "metadata": {},
   "outputs": [
    {
     "name": "stdout",
     "output_type": "stream",
     "text": [
      "AnimalHorse10Dataset\n"
     ]
    }
   ],
   "source": [
    "dataset = pose_model.cfg.data[\"test\"][\"type\"]\n",
    "print(dataset)"
   ]
  },
  {
   "cell_type": "code",
   "execution_count": 9,
   "metadata": {},
   "outputs": [],
   "source": [
    "# get datasetinfo\n",
    "dataset_info = pose_model.cfg.data[\"test\"].get(\"dataset_info\", None)\n",
    "if dataset_info is None:\n",
    "    warnings.warn(\n",
    "        \"Please set `dataset_info` in the config.\"\n",
    "        \"Check https://github.com/open-mmlab/mmpose/pull/663 for details.\",\n",
    "        DeprecationWarning,\n",
    "    )\n",
    "else:\n",
    "    dataset_info = DatasetInfo(dataset_info)"
   ]
  },
  {
   "cell_type": "code",
   "execution_count": 10,
   "metadata": {},
   "outputs": [],
   "source": [
    "# read video\n",
    "video = mmcv.VideoReader(video_path)\n",
    "assert video.opened, f\"Faild to load video file {video_path}\"\n",
    "\n",
    "if out_video_root == \"\":\n",
    "    save_out_video = False\n",
    "else:\n",
    "    os.makedirs(out_video_root, exist_ok=True)\n",
    "    save_out_video = True\n",
    "\n",
    "if save_out_video:\n",
    "    fps = video.fps\n",
    "    size = (video.width, video.height)\n",
    "    fourcc = cv2.VideoWriter_fourcc(*\"mp4v\")\n",
    "    videoWriter = cv2.VideoWriter(\n",
    "        os.path.join(out_video_root, f\"vis_{os.path.basename(video_path)}\"),\n",
    "        fourcc,\n",
    "        fps,\n",
    "        size,\n",
    "    )"
   ]
  },
  {
   "cell_type": "code",
   "execution_count": 11,
   "metadata": {},
   "outputs": [],
   "source": [
    "# マルチフレームとは？\n",
    "# frame index offsets for inference, used in multi-frame inference setting\n",
    "if use_multi_frames:\n",
    "    assert \"frame_indices_test\" in pose_model.cfg.data.test.data_cfg\n",
    "    indices = pose_model.cfg.data.test.data_cfg[\"frame_indices_test\"]"
   ]
  },
  {
   "cell_type": "code",
   "execution_count": 12,
   "metadata": {},
   "outputs": [],
   "source": [
    "# heatmapとは？\n",
    "# whether to return heatmap, optional\n",
    "# return_heatmap = False\n",
    "return_heatmap = True\n",
    "\n",
    "# return the output of some desired layers,\n",
    "# e.g. use ('backbone', ) to return backbone feature\n",
    "output_layer_names = None"
   ]
  },
  {
   "cell_type": "code",
   "execution_count": null,
   "metadata": {},
   "outputs": [],
   "source": []
  },
  {
   "cell_type": "code",
   "execution_count": 13,
   "metadata": {},
   "outputs": [
    {
     "name": "stdout",
     "output_type": "stream",
     "text": [
      "175\n",
      "3840 2160 (3840, 2160) 30.0\n"
     ]
    }
   ],
   "source": [
    "# obtain basic information\n",
    "print(len(video))\n",
    "print(video.width, video.height, video.resolution, video.fps)\n",
    "\n",
    "# shape: 1フレーム width x height x 3"
   ]
  },
  {
   "cell_type": "code",
   "execution_count": null,
   "metadata": {},
   "outputs": [],
   "source": []
  },
  {
   "cell_type": "code",
   "execution_count": 14,
   "metadata": {},
   "outputs": [
    {
     "name": "stdout",
     "output_type": "stream",
     "text": [
      "Running inference...\n",
      "[                                                  ] 0/175, elapsed: 0s, ETA:0\n",
      "[                                 ] 1/175, 0.8 task/s, elapsed: 1s, ETA:   206s1\n",
      "[                                 ] 2/175, 1.5 task/s, elapsed: 1s, ETA:   119s2\n",
      "[                                 ] 3/175, 1.9 task/s, elapsed: 2s, ETA:    90s3\n",
      "[                                 ] 4/175, 2.3 task/s, elapsed: 2s, ETA:    75s4\n",
      "[                                 ] 5/175, 2.5 task/s, elapsed: 2s, ETA:    67s5\n",
      "[>                                ] 6/175, 2.8 task/s, elapsed: 2s, ETA:    61s6\n",
      "[>                                ] 7/175, 2.9 task/s, elapsed: 2s, ETA:    57s7\n",
      "[>                                ] 8/175, 3.1 task/s, elapsed: 3s, ETA:    55s8\n",
      "[>                                ] 9/175, 3.2 task/s, elapsed: 3s, ETA:    52s9\n",
      "[>                               ] 10/175, 3.3 task/s, elapsed: 3s, ETA:    50s10\n",
      "[>>                              ] 11/175, 3.4 task/s, elapsed: 3s, ETA:    48s11\n",
      "[>>                              ] 12/175, 3.5 task/s, elapsed: 3s, ETA:    47s12\n",
      "[>>                              ] 13/175, 3.5 task/s, elapsed: 4s, ETA:    46s13\n",
      "[>>                              ] 14/175, 3.6 task/s, elapsed: 4s, ETA:    45s14\n",
      "[>>                              ] 15/175, 3.7 task/s, elapsed: 4s, ETA:    44s15\n",
      "[>>                              ] 16/175, 3.7 task/s, elapsed: 4s, ETA:    43s16\n",
      "[>>>                             ] 17/175, 3.8 task/s, elapsed: 4s, ETA:    42s17\n",
      "[>>>                             ] 18/175, 3.8 task/s, elapsed: 5s, ETA:    41s18\n",
      "[>>>                             ] 19/175, 3.9 task/s, elapsed: 5s, ETA:    40s19\n",
      "[>>>                             ] 20/175, 3.9 task/s, elapsed: 5s, ETA:    40s20\n",
      "[>>>                             ] 21/175, 4.0 task/s, elapsed: 5s, ETA:    39s21\n",
      "[>>>>                            ] 22/175, 4.0 task/s, elapsed: 5s, ETA:    38s22\n",
      "[>>>>                            ] 23/175, 4.1 task/s, elapsed: 6s, ETA:    37s23\n",
      "[>>>>                            ] 24/175, 4.1 task/s, elapsed: 6s, ETA:    37s24\n",
      "[>>>>                            ] 25/175, 4.1 task/s, elapsed: 6s, ETA:    36s25\n",
      "[>>>>                            ] 26/175, 4.2 task/s, elapsed: 6s, ETA:    36s26\n",
      "[>>>>                            ] 27/175, 4.2 task/s, elapsed: 6s, ETA:    35s27\n",
      "[>>>>>                           ] 28/175, 4.2 task/s, elapsed: 7s, ETA:    35s28\n",
      "[>>>>>                           ] 29/175, 4.3 task/s, elapsed: 7s, ETA:    34s29\n",
      "[>>>>>                           ] 30/175, 4.3 task/s, elapsed: 7s, ETA:    34s30\n",
      "[>>>>>                           ] 31/175, 4.3 task/s, elapsed: 7s, ETA:    33s31\n",
      "[>>>>>                           ] 32/175, 4.3 task/s, elapsed: 7s, ETA:    33s32\n",
      "[>>>>>>                          ] 33/175, 4.3 task/s, elapsed: 8s, ETA:    33s33\n",
      "[>>>>>>                          ] 34/175, 4.4 task/s, elapsed: 8s, ETA:    32s34\n",
      "[>>>>>>                          ] 35/175, 4.4 task/s, elapsed: 8s, ETA:    32s35\n",
      "[>>>>>>                          ] 36/175, 4.4 task/s, elapsed: 8s, ETA:    32s36\n",
      "[>>>>>>                          ] 37/175, 4.4 task/s, elapsed: 8s, ETA:    31s37\n",
      "[>>>>>>                          ] 38/175, 4.4 task/s, elapsed: 9s, ETA:    31s38\n",
      "[>>>>>>>                         ] 39/175, 4.5 task/s, elapsed: 9s, ETA:    30s39\n",
      "[>>>>>>>                         ] 40/175, 4.5 task/s, elapsed: 9s, ETA:    30s40\n",
      "[>>>>>>>                         ] 41/175, 4.5 task/s, elapsed: 9s, ETA:    30s41\n",
      "[>>>>>>>                         ] 42/175, 4.5 task/s, elapsed: 9s, ETA:    30s42\n",
      "[>>>>>>>                        ] 43/175, 4.5 task/s, elapsed: 10s, ETA:    29s43\n",
      "[>>>>>>>                        ] 44/175, 4.5 task/s, elapsed: 10s, ETA:    29s44\n",
      "[>>>>>>>                        ] 45/175, 4.6 task/s, elapsed: 10s, ETA:    29s45\n",
      "[>>>>>>>>                       ] 46/175, 4.6 task/s, elapsed: 10s, ETA:    28s46\n",
      "[>>>>>>>>                       ] 47/175, 4.6 task/s, elapsed: 10s, ETA:    28s47\n",
      "[>>>>>>>>                       ] 48/175, 4.6 task/s, elapsed: 10s, ETA:    28s48\n",
      "[>>>>>>>>                       ] 49/175, 4.6 task/s, elapsed: 11s, ETA:    27s49\n",
      "[>>>>>>>>                       ] 50/175, 4.6 task/s, elapsed: 11s, ETA:    27s50\n",
      "[>>>>>>>>>                      ] 51/175, 4.6 task/s, elapsed: 11s, ETA:    27s51\n",
      "[>>>>>>>>>                      ] 52/175, 4.6 task/s, elapsed: 11s, ETA:    27s52\n",
      "[>>>>>>>>>                      ] 53/175, 4.6 task/s, elapsed: 11s, ETA:    26s53\n",
      "[>>>>>>>>>                      ] 54/175, 4.6 task/s, elapsed: 12s, ETA:    26s54\n",
      "[>>>>>>>>>                      ] 55/175, 4.6 task/s, elapsed: 12s, ETA:    26s55\n",
      "[>>>>>>>>>                      ] 56/175, 4.6 task/s, elapsed: 12s, ETA:    26s56\n",
      "[>>>>>>>>>>                     ] 57/175, 4.6 task/s, elapsed: 12s, ETA:    25s57\n",
      "[>>>>>>>>>>                     ] 58/175, 4.6 task/s, elapsed: 12s, ETA:    25s58\n",
      "[>>>>>>>>>>                     ] 59/175, 4.6 task/s, elapsed: 13s, ETA:    25s59\n",
      "[>>>>>>>>>>                     ] 60/175, 4.7 task/s, elapsed: 13s, ETA:    25s60\n",
      "[>>>>>>>>>>                     ] 61/175, 4.7 task/s, elapsed: 13s, ETA:    24s61\n",
      "[>>>>>>>>>>                     ] 62/175, 4.7 task/s, elapsed: 13s, ETA:    24s62\n",
      "[>>>>>>>>>>>                    ] 63/175, 4.7 task/s, elapsed: 14s, ETA:    24s63\n",
      "[>>>>>>>>>>>                    ] 64/175, 4.7 task/s, elapsed: 14s, ETA:    24s64\n",
      "[>>>>>>>>>>>                    ] 65/175, 4.7 task/s, elapsed: 14s, ETA:    24s65\n",
      "[>>>>>>>>>>>                    ] 66/175, 4.7 task/s, elapsed: 14s, ETA:    23s66\n",
      "[>>>>>>>>>>>                    ] 67/175, 4.7 task/s, elapsed: 14s, ETA:    23s67\n",
      "[>>>>>>>>>>>>                   ] 68/175, 4.7 task/s, elapsed: 15s, ETA:    23s68\n",
      "[>>>>>>>>>>>>                   ] 69/175, 4.7 task/s, elapsed: 15s, ETA:    23s69\n",
      "[>>>>>>>>>>>>                   ] 70/175, 4.7 task/s, elapsed: 15s, ETA:    22s70\n",
      "[>>>>>>>>>>>>                   ] 71/175, 4.7 task/s, elapsed: 15s, ETA:    22s71\n",
      "[>>>>>>>>>>>>                   ] 72/175, 4.7 task/s, elapsed: 15s, ETA:    22s72\n",
      "[>>>>>>>>>>>>                   ] 73/175, 4.7 task/s, elapsed: 16s, ETA:    22s73\n",
      "[>>>>>>>>>>>>>                  ] 74/175, 4.7 task/s, elapsed: 16s, ETA:    21s74\n",
      "[>>>>>>>>>>>>>                  ] 75/175, 4.7 task/s, elapsed: 16s, ETA:    21s75\n",
      "[>>>>>>>>>>>>>                  ] 76/175, 4.7 task/s, elapsed: 16s, ETA:    21s76\n",
      "[>>>>>>>>>>>>>                  ] 77/175, 4.7 task/s, elapsed: 16s, ETA:    21s77\n",
      "[>>>>>>>>>>>>>                  ] 78/175, 4.7 task/s, elapsed: 17s, ETA:    21s78\n",
      "[>>>>>>>>>>>>>                  ] 79/175, 4.7 task/s, elapsed: 17s, ETA:    20s79\n",
      "[>>>>>>>>>>>>>>                 ] 80/175, 4.7 task/s, elapsed: 17s, ETA:    20s80\n",
      "[>>>>>>>>>>>>>>                 ] 81/175, 4.7 task/s, elapsed: 17s, ETA:    20s81\n",
      "[>>>>>>>>>>>>>>                 ] 82/175, 4.7 task/s, elapsed: 17s, ETA:    20s82\n",
      "[>>>>>>>>>>>>>>                 ] 83/175, 4.7 task/s, elapsed: 18s, ETA:    20s83\n",
      "[>>>>>>>>>>>>>>                 ] 84/175, 4.7 task/s, elapsed: 18s, ETA:    19s84\n",
      "[>>>>>>>>>>>>>>>                ] 85/175, 4.7 task/s, elapsed: 18s, ETA:    19s85\n",
      "[>>>>>>>>>>>>>>>                ] 86/175, 4.7 task/s, elapsed: 18s, ETA:    19s86\n",
      "[>>>>>>>>>>>>>>>                ] 87/175, 4.7 task/s, elapsed: 18s, ETA:    19s87\n",
      "[>>>>>>>>>>>>>>>                ] 88/175, 4.7 task/s, elapsed: 19s, ETA:    18s88\n",
      "[>>>>>>>>>>>>>>>                ] 89/175, 4.7 task/s, elapsed: 19s, ETA:    18s89\n",
      "[>>>>>>>>>>>>>>>                ] 90/175, 4.7 task/s, elapsed: 19s, ETA:    18s90\n",
      "[>>>>>>>>>>>>>>>>               ] 91/175, 4.7 task/s, elapsed: 19s, ETA:    18s91\n",
      "[>>>>>>>>>>>>>>>>               ] 92/175, 4.7 task/s, elapsed: 19s, ETA:    17s92\n",
      "[>>>>>>>>>>>>>>>>               ] 93/175, 4.7 task/s, elapsed: 20s, ETA:    17s93\n",
      "[>>>>>>>>>>>>>>>>               ] 94/175, 4.8 task/s, elapsed: 20s, ETA:    17s94\n",
      "[>>>>>>>>>>>>>>>>               ] 95/175, 4.8 task/s, elapsed: 20s, ETA:    17s95\n",
      "[>>>>>>>>>>>>>>>>>              ] 96/175, 4.8 task/s, elapsed: 20s, ETA:    17s96\n",
      "[>>>>>>>>>>>>>>>>>              ] 97/175, 4.8 task/s, elapsed: 20s, ETA:    16s97\n",
      "[>>>>>>>>>>>>>>>>>              ] 98/175, 4.8 task/s, elapsed: 21s, ETA:    16s98\n",
      "[>>>>>>>>>>>>>>>>>              ] 99/175, 4.8 task/s, elapsed: 21s, ETA:    16s99\n",
      "[>>>>>>>>>>>>>>>>>             ] 100/175, 4.8 task/s, elapsed: 21s, ETA:    16s100\n",
      "[>>>>>>>>>>>>>>>>>             ] 101/175, 4.8 task/s, elapsed: 21s, ETA:    15s101\n",
      "[>>>>>>>>>>>>>>>>>             ] 102/175, 4.8 task/s, elapsed: 21s, ETA:    15s102\n",
      "[>>>>>>>>>>>>>>>>>             ] 103/175, 4.8 task/s, elapsed: 22s, ETA:    15s103\n",
      "[>>>>>>>>>>>>>>>>>             ] 104/175, 4.8 task/s, elapsed: 22s, ETA:    15s104\n",
      "[>>>>>>>>>>>>>>>>>>            ] 105/175, 4.8 task/s, elapsed: 22s, ETA:    15s105\n",
      "[>>>>>>>>>>>>>>>>>>            ] 106/175, 4.8 task/s, elapsed: 22s, ETA:    14s106\n",
      "[>>>>>>>>>>>>>>>>>>            ] 107/175, 4.8 task/s, elapsed: 22s, ETA:    14s107\n",
      "[>>>>>>>>>>>>>>>>>>            ] 108/175, 4.8 task/s, elapsed: 23s, ETA:    14s108\n",
      "[>>>>>>>>>>>>>>>>>>            ] 109/175, 4.8 task/s, elapsed: 23s, ETA:    14s109\n",
      "[>>>>>>>>>>>>>>>>>>            ] 110/175, 4.8 task/s, elapsed: 23s, ETA:    14s110\n",
      "[>>>>>>>>>>>>>>>>>>>           ] 111/175, 4.8 task/s, elapsed: 23s, ETA:    13s111\n",
      "[>>>>>>>>>>>>>>>>>>>           ] 112/175, 4.8 task/s, elapsed: 23s, ETA:    13s112\n",
      "[>>>>>>>>>>>>>>>>>>>           ] 113/175, 4.8 task/s, elapsed: 24s, ETA:    13s113\n",
      "[>>>>>>>>>>>>>>>>>>>           ] 114/175, 4.8 task/s, elapsed: 24s, ETA:    13s114\n",
      "[>>>>>>>>>>>>>>>>>>>           ] 115/175, 4.8 task/s, elapsed: 24s, ETA:    13s115\n",
      "[>>>>>>>>>>>>>>>>>>>           ] 116/175, 4.8 task/s, elapsed: 24s, ETA:    12s116\n",
      "[>>>>>>>>>>>>>>>>>>>>          ] 117/175, 4.8 task/s, elapsed: 24s, ETA:    12s117\n",
      "[>>>>>>>>>>>>>>>>>>>>          ] 118/175, 4.8 task/s, elapsed: 25s, ETA:    12s118\n",
      "[>>>>>>>>>>>>>>>>>>>>          ] 119/175, 4.8 task/s, elapsed: 25s, ETA:    12s119\n",
      "[>>>>>>>>>>>>>>>>>>>>          ] 120/175, 4.8 task/s, elapsed: 25s, ETA:    11s120\n",
      "[>>>>>>>>>>>>>>>>>>>>          ] 121/175, 4.8 task/s, elapsed: 25s, ETA:    11s121\n",
      "[>>>>>>>>>>>>>>>>>>>>          ] 122/175, 4.8 task/s, elapsed: 25s, ETA:    11s122\n",
      "[>>>>>>>>>>>>>>>>>>>>>         ] 123/175, 4.8 task/s, elapsed: 26s, ETA:    11s123\n",
      "[>>>>>>>>>>>>>>>>>>>>>         ] 124/175, 4.8 task/s, elapsed: 26s, ETA:    11s124\n",
      "[>>>>>>>>>>>>>>>>>>>>>         ] 125/175, 4.8 task/s, elapsed: 26s, ETA:    10s125\n",
      "[>>>>>>>>>>>>>>>>>>>>>         ] 126/175, 4.8 task/s, elapsed: 26s, ETA:    10s126\n",
      "[>>>>>>>>>>>>>>>>>>>>>         ] 127/175, 4.8 task/s, elapsed: 26s, ETA:    10s127\n",
      "[>>>>>>>>>>>>>>>>>>>>>         ] 128/175, 4.8 task/s, elapsed: 27s, ETA:    10s128\n",
      "[>>>>>>>>>>>>>>>>>>>>>>        ] 129/175, 4.8 task/s, elapsed: 27s, ETA:    10s129\n",
      "[>>>>>>>>>>>>>>>>>>>>>>        ] 130/175, 4.8 task/s, elapsed: 27s, ETA:     9s130\n",
      "[>>>>>>>>>>>>>>>>>>>>>>        ] 131/175, 4.8 task/s, elapsed: 27s, ETA:     9s131\n",
      "[>>>>>>>>>>>>>>>>>>>>>>        ] 132/175, 4.8 task/s, elapsed: 27s, ETA:     9s132\n",
      "[>>>>>>>>>>>>>>>>>>>>>>        ] 133/175, 4.8 task/s, elapsed: 28s, ETA:     9s133\n",
      "[>>>>>>>>>>>>>>>>>>>>>>        ] 134/175, 4.8 task/s, elapsed: 28s, ETA:     9s134\n",
      "[>>>>>>>>>>>>>>>>>>>>>>>       ] 135/175, 4.8 task/s, elapsed: 28s, ETA:     8s135\n",
      "[>>>>>>>>>>>>>>>>>>>>>>>       ] 136/175, 4.8 task/s, elapsed: 28s, ETA:     8s136\n",
      "[>>>>>>>>>>>>>>>>>>>>>>>       ] 137/175, 4.8 task/s, elapsed: 28s, ETA:     8s137\n",
      "[>>>>>>>>>>>>>>>>>>>>>>>       ] 138/175, 4.8 task/s, elapsed: 29s, ETA:     8s138\n",
      "[>>>>>>>>>>>>>>>>>>>>>>>       ] 139/175, 4.8 task/s, elapsed: 29s, ETA:     7s139\n",
      "[>>>>>>>>>>>>>>>>>>>>>>>>      ] 140/175, 4.8 task/s, elapsed: 29s, ETA:     7s140\n",
      "[>>>>>>>>>>>>>>>>>>>>>>>>      ] 141/175, 4.8 task/s, elapsed: 29s, ETA:     7s141\n",
      "[>>>>>>>>>>>>>>>>>>>>>>>>      ] 142/175, 4.8 task/s, elapsed: 29s, ETA:     7s142\n",
      "[>>>>>>>>>>>>>>>>>>>>>>>>      ] 143/175, 4.8 task/s, elapsed: 30s, ETA:     7s143\n",
      "[>>>>>>>>>>>>>>>>>>>>>>>>      ] 144/175, 4.8 task/s, elapsed: 30s, ETA:     6s144\n",
      "[>>>>>>>>>>>>>>>>>>>>>>>>      ] 145/175, 4.8 task/s, elapsed: 30s, ETA:     6s145\n",
      "[>>>>>>>>>>>>>>>>>>>>>>>>>     ] 146/175, 4.8 task/s, elapsed: 30s, ETA:     6s146\n",
      "[>>>>>>>>>>>>>>>>>>>>>>>>>     ] 147/175, 4.8 task/s, elapsed: 30s, ETA:     6s147\n",
      "[>>>>>>>>>>>>>>>>>>>>>>>>>     ] 148/175, 4.8 task/s, elapsed: 31s, ETA:     6s148\n",
      "[>>>>>>>>>>>>>>>>>>>>>>>>>     ] 149/175, 4.8 task/s, elapsed: 31s, ETA:     5s149\n",
      "[>>>>>>>>>>>>>>>>>>>>>>>>>     ] 150/175, 4.8 task/s, elapsed: 31s, ETA:     5s150\n",
      "[>>>>>>>>>>>>>>>>>>>>>>>>>     ] 151/175, 4.8 task/s, elapsed: 31s, ETA:     5s151\n",
      "[>>>>>>>>>>>>>>>>>>>>>>>>>>    ] 152/175, 4.8 task/s, elapsed: 31s, ETA:     5s152\n",
      "[>>>>>>>>>>>>>>>>>>>>>>>>>>    ] 153/175, 4.8 task/s, elapsed: 32s, ETA:     5s153\n",
      "[>>>>>>>>>>>>>>>>>>>>>>>>>>    ] 154/175, 4.8 task/s, elapsed: 32s, ETA:     4s154\n",
      "[>>>>>>>>>>>>>>>>>>>>>>>>>>    ] 155/175, 4.8 task/s, elapsed: 32s, ETA:     4s155\n",
      "[>>>>>>>>>>>>>>>>>>>>>>>>>>    ] 156/175, 4.8 task/s, elapsed: 32s, ETA:     4s156\n",
      "[>>>>>>>>>>>>>>>>>>>>>>>>>>    ] 157/175, 4.8 task/s, elapsed: 32s, ETA:     4s157\n",
      "[>>>>>>>>>>>>>>>>>>>>>>>>>>>   ] 158/175, 4.8 task/s, elapsed: 33s, ETA:     4s158\n",
      "[>>>>>>>>>>>>>>>>>>>>>>>>>>>   ] 159/175, 4.8 task/s, elapsed: 33s, ETA:     3s159\n",
      "[>>>>>>>>>>>>>>>>>>>>>>>>>>>   ] 160/175, 4.8 task/s, elapsed: 33s, ETA:     3s160\n",
      "[>>>>>>>>>>>>>>>>>>>>>>>>>>>   ] 161/175, 4.8 task/s, elapsed: 33s, ETA:     3s161\n",
      "[>>>>>>>>>>>>>>>>>>>>>>>>>>>   ] 162/175, 4.8 task/s, elapsed: 33s, ETA:     3s162\n",
      "[>>>>>>>>>>>>>>>>>>>>>>>>>>>   ] 163/175, 4.8 task/s, elapsed: 34s, ETA:     2s163\n",
      "[>>>>>>>>>>>>>>>>>>>>>>>>>>>>  ] 164/175, 4.8 task/s, elapsed: 34s, ETA:     2s164\n",
      "[>>>>>>>>>>>>>>>>>>>>>>>>>>>>  ] 165/175, 4.8 task/s, elapsed: 34s, ETA:     2s165\n",
      "[>>>>>>>>>>>>>>>>>>>>>>>>>>>>  ] 166/175, 4.8 task/s, elapsed: 34s, ETA:     2s166\n",
      "[>>>>>>>>>>>>>>>>>>>>>>>>>>>>  ] 167/175, 4.8 task/s, elapsed: 35s, ETA:     2s167\n",
      "[>>>>>>>>>>>>>>>>>>>>>>>>>>>>  ] 168/175, 4.8 task/s, elapsed: 35s, ETA:     1s168\n",
      "[>>>>>>>>>>>>>>>>>>>>>>>>>>>>  ] 169/175, 4.8 task/s, elapsed: 35s, ETA:     1s169\n",
      "[>>>>>>>>>>>>>>>>>>>>>>>>>>>>> ] 170/175, 4.8 task/s, elapsed: 35s, ETA:     1s170\n",
      "[>>>>>>>>>>>>>>>>>>>>>>>>>>>>> ] 171/175, 4.8 task/s, elapsed: 35s, ETA:     1s171\n",
      "[>>>>>>>>>>>>>>>>>>>>>>>>>>>>> ] 172/175, 4.8 task/s, elapsed: 36s, ETA:     1s172\n",
      "[>>>>>>>>>>>>>>>>>>>>>>>>>>>>> ] 173/175, 4.8 task/s, elapsed: 36s, ETA:     0s173\n",
      "[>>>>>>>>>>>>>>>>>>>>>>>>>>>>> ] 174/175, 4.8 task/s, elapsed: 36s, ETA:     0s174\n",
      "[>>>>>>>>>>>>>>>>>>>>>>>>>>>>>>] 175/175, 4.8 task/s, elapsed: 36s, ETA:     0s\n"
     ]
    }
   ],
   "source": [
    "key_points = []\n",
    "print(\"Running inference...\")\n",
    "for frame_id, cur_frame in enumerate(mmcv.track_iter_progress(video)):\n",
    "    print(frame_id)\n",
    "    # get the detection results of current frame\n",
    "    # the resulting box is (x1, y1, x2, y2)\n",
    "    mmdet_results = inference_detector(det_model, cur_frame)\n",
    "\n",
    "    # keep the person class bounding boxes.\n",
    "    person_results = process_mmdet_results(mmdet_results, det_cat_id)\n",
    "\n",
    "    if use_multi_frames:\n",
    "        frames = collect_multi_frames(video, frame_id, indices, online)\n",
    "\n",
    "    # test a single image, with a list of bboxes.\n",
    "    pose_results, returned_outputs = inference_top_down_pose_model(\n",
    "        pose_model,\n",
    "        frames if use_multi_frames else cur_frame,\n",
    "        person_results,\n",
    "        bbox_thr=bbox_thr,\n",
    "        format=\"xyxy\",\n",
    "        dataset=dataset,\n",
    "        dataset_info=dataset_info,\n",
    "        return_heatmap=return_heatmap,\n",
    "        outputs=output_layer_names,\n",
    "    )\n",
    "    key_points.append(pose_results)\n",
    "\n",
    "    # show the results\n",
    "    vis_frame = vis_pose_result(\n",
    "        pose_model,\n",
    "        cur_frame,\n",
    "        pose_results,\n",
    "        dataset=dataset,\n",
    "        dataset_info=dataset_info,\n",
    "        kpt_score_thr=kpt_thr,\n",
    "        radius=radius,\n",
    "        thickness=thickness,\n",
    "        show=False,\n",
    "    )\n",
    "\n",
    "    if show:\n",
    "        cv2.imshow(\"Frame\", vis_frame)\n",
    "\n",
    "    if save_out_video:\n",
    "        videoWriter.write(vis_frame)\n",
    "\n",
    "    if show and cv2.waitKey(1) & 0xFF == ord(\"q\"):\n",
    "        break\n",
    "\n",
    "if save_out_video:\n",
    "    videoWriter.release()\n",
    "if show:\n",
    "    cv2.destroyAllWindows()"
   ]
  },
  {
   "cell_type": "code",
   "execution_count": 17,
   "metadata": {},
   "outputs": [],
   "source": [
    "import pickle\n",
    "\n",
    "with open(\"./output/keypoint.pickle\", mode='wb') as f:\n",
    "    pickle.dump(key_points, f)\n"
   ]
  },
  {
   "cell_type": "code",
   "execution_count": null,
   "metadata": {},
   "outputs": [],
   "source": []
  }
 ],
 "metadata": {
  "kernelspec": {
   "display_name": "Python 3.8.15 ('openmmlab')",
   "language": "python",
   "name": "python3"
  },
  "language_info": {
   "codemirror_mode": {
    "name": "ipython",
    "version": 3
   },
   "file_extension": ".py",
   "mimetype": "text/x-python",
   "name": "python",
   "nbconvert_exporter": "python",
   "pygments_lexer": "ipython3",
   "version": "3.8.15"
  },
  "orig_nbformat": 4,
  "vscode": {
   "interpreter": {
    "hash": "ad923cd02823043e79370dda0204fad440316bc10e98c6fc87f3546218dcca98"
   }
  }
 },
 "nbformat": 4,
 "nbformat_minor": 2
}
