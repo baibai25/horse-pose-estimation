{
 "cells": [
  {
   "cell_type": "code",
   "execution_count": null,
   "metadata": {},
   "outputs": [],
   "source": [
    "# git clone "
   ]
  },
  {
   "cell_type": "code",
   "execution_count": null,
   "metadata": {},
   "outputs": [],
   "source": [
    "import os\n",
    "import warnings\n",
    "\n",
    "import cv2\n",
    "import mmcv\n",
    "\n",
    "from mmpose.apis import (\n",
    "    collect_multi_frames,\n",
    "    inference_top_down_pose_model,\n",
    "    init_pose_model,\n",
    "    process_mmdet_results,\n",
    "    vis_pose_result,\n",
    ")\n",
    "from mmpose.datasets import DatasetInfo\n",
    "\n",
    "try:\n",
    "    from mmdet.apis import inference_detector, init_detector\n",
    "\n",
    "    has_mmdet = True\n",
    "except (ImportError, ModuleNotFoundError):\n",
    "    has_mmdet = False"
   ]
  },
  {
   "cell_type": "markdown",
   "metadata": {},
   "source": [
    "## Config"
   ]
  },
  {
   "cell_type": "code",
   "execution_count": null,
   "metadata": {},
   "outputs": [],
   "source": [
    "# set detection config\n",
    "det_config = \"../mmdetection_cfg/faster_rcnn_r50_fpn_coco.py\"\n",
    "det_checkpoint = \"https://download.openmmlab.com/mmdetection/v2.0/faster_rcnn/faster_rcnn_r50_fpn_2x_coco/faster_rcnn_r50_fpn_2x_coco_bbox_mAP-0.384_20200504_210434-a5d8aa15.pth\"\n",
    "\n",
    "# set pose config\n",
    "pose_config = \"../../configs/animal/2d_kpt_sview_rgb_img/topdown_heatmap/horse10/res50_horse10_256x256-split1.py\"\n",
    "pose_checkpoint = \"https://download.openmmlab.com/mmpose/animal/resnet/res50_horse10_256x256_split1-3a3dc37e_20210405.pth\""
   ]
  },
  {
   "cell_type": "code",
   "execution_count": null,
   "metadata": {},
   "outputs": [],
   "source": [
    "# set data path\n",
    "!mkdir data output\n",
    "# video_path = \"./data/clip.mp4\"\n",
    "video_path = \"/home/yata/Videos/ooi/IMG_2437.MOV\"\n",
    "out_video_root = \"./output/\""
   ]
  },
  {
   "cell_type": "code",
   "execution_count": null,
   "metadata": {},
   "outputs": [],
   "source": [
    "# set params\n",
    "# bbox_thr = 0.1 # box thr\n",
    "# kpt_thr = 0.4 # keypint thr\n",
    "bbox_thr = 0.4 # box thr\n",
    "kpt_thr = 0.4 # keypint thr\n",
    "det_cat_id = 18\n",
    "radius = 10\n",
    "thickness = 5\n",
    "\n",
    "show = False\n",
    "use_multi_frames = False\n",
    "online = False"
   ]
  },
  {
   "cell_type": "markdown",
   "metadata": {},
   "source": [
    "## Build model"
   ]
  },
  {
   "cell_type": "code",
   "execution_count": null,
   "metadata": {},
   "outputs": [],
   "source": [
    "print(\"Initializing model...\")\n",
    "# build the detection model from a config file and a checkpoint file\n",
    "det_model = init_detector(det_config, det_checkpoint, device=\"cuda:0\")"
   ]
  },
  {
   "cell_type": "code",
   "execution_count": null,
   "metadata": {},
   "outputs": [],
   "source": [
    "# build the pose model from a config file and a checkpoint file\n",
    "pose_model = init_pose_model(pose_config, pose_checkpoint, device=\"cuda:0\")"
   ]
  },
  {
   "cell_type": "markdown",
   "metadata": {},
   "source": [
    "## Load data"
   ]
  },
  {
   "cell_type": "code",
   "execution_count": null,
   "metadata": {},
   "outputs": [],
   "source": [
    "dataset = pose_model.cfg.data[\"test\"][\"type\"]\n",
    "print(dataset)"
   ]
  },
  {
   "cell_type": "code",
   "execution_count": null,
   "metadata": {},
   "outputs": [],
   "source": [
    "# get datasetinfo\n",
    "dataset_info = pose_model.cfg.data[\"test\"].get(\"dataset_info\", None)\n",
    "if dataset_info is None:\n",
    "    warnings.warn(\n",
    "        \"Please set `dataset_info` in the config.\"\n",
    "        \"Check https://github.com/open-mmlab/mmpose/pull/663 for details.\",\n",
    "        DeprecationWarning,\n",
    "    )\n",
    "else:\n",
    "    dataset_info = DatasetInfo(dataset_info)"
   ]
  },
  {
   "cell_type": "code",
   "execution_count": null,
   "metadata": {},
   "outputs": [],
   "source": [
    "# read video\n",
    "video = mmcv.VideoReader(video_path)\n",
    "assert video.opened, f\"Faild to load video file {video_path}\"\n",
    "\n",
    "if out_video_root == \"\":\n",
    "    save_out_video = False\n",
    "else:\n",
    "    os.makedirs(out_video_root, exist_ok=True)\n",
    "    save_out_video = True\n",
    "\n",
    "if save_out_video:\n",
    "    fps = video.fps\n",
    "    size = (video.width, video.height)\n",
    "    fourcc = cv2.VideoWriter_fourcc(*\"mp4v\")\n",
    "    videoWriter = cv2.VideoWriter(\n",
    "        os.path.join(out_video_root, f\"vis_{os.path.basename(video_path)}\"),\n",
    "        fourcc,\n",
    "        fps,\n",
    "        size,\n",
    "    )"
   ]
  },
  {
   "cell_type": "code",
   "execution_count": null,
   "metadata": {},
   "outputs": [],
   "source": [
    "# マルチフレームとは？\n",
    "# frame index offsets for inference, used in multi-frame inference setting\n",
    "if use_multi_frames:\n",
    "    assert \"frame_indices_test\" in pose_model.cfg.data.test.data_cfg\n",
    "    indices = pose_model.cfg.data.test.data_cfg[\"frame_indices_test\"]"
   ]
  },
  {
   "cell_type": "code",
   "execution_count": null,
   "metadata": {},
   "outputs": [],
   "source": [
    "# heatmapとは？\n",
    "# whether to return heatmap, optional\n",
    "# return_heatmap = False\n",
    "return_heatmap = True\n",
    "\n",
    "# return the output of some desired layers,\n",
    "# e.g. use ('backbone', ) to return backbone feature\n",
    "output_layer_names = None"
   ]
  },
  {
   "cell_type": "code",
   "execution_count": null,
   "metadata": {},
   "outputs": [],
   "source": []
  },
  {
   "cell_type": "code",
   "execution_count": null,
   "metadata": {},
   "outputs": [],
   "source": [
    "# obtain basic information\n",
    "print(len(video))\n",
    "print(video.width, video.height, video.resolution, video.fps)\n",
    "\n",
    "# shape: 1フレーム width x height x 3"
   ]
  },
  {
   "cell_type": "code",
   "execution_count": null,
   "metadata": {},
   "outputs": [],
   "source": []
  },
  {
   "cell_type": "code",
   "execution_count": null,
   "metadata": {},
   "outputs": [],
   "source": [
    "key_points = []\n",
    "print(\"Running inference...\")\n",
    "for frame_id, cur_frame in enumerate(mmcv.track_iter_progress(video)):\n",
    "    # get the detection results of current frame\n",
    "    # the resulting box is (x1, y1, x2, y2)\n",
    "    mmdet_results = inference_detector(det_model, cur_frame)\n",
    "\n",
    "    # keep the person class bounding boxes.\n",
    "    person_results = process_mmdet_results(mmdet_results, det_cat_id)\n",
    "\n",
    "    if use_multi_frames:\n",
    "        frames = collect_multi_frames(video, frame_id, indices, online)\n",
    "\n",
    "    # test a single image, with a list of bboxes.\n",
    "    pose_results, returned_outputs = inference_top_down_pose_model(\n",
    "        pose_model,\n",
    "        frames if use_multi_frames else cur_frame,\n",
    "        person_results,\n",
    "        bbox_thr=bbox_thr,\n",
    "        format=\"xyxy\",\n",
    "        dataset=dataset,\n",
    "        dataset_info=dataset_info,\n",
    "        return_heatmap=return_heatmap,\n",
    "        outputs=output_layer_names,\n",
    "    )\n",
    "    key_points.append(pose_results)\n",
    "\n",
    "    # show the results\n",
    "    vis_frame = vis_pose_result(\n",
    "        pose_model,\n",
    "        cur_frame,\n",
    "        pose_results,\n",
    "        dataset=dataset,\n",
    "        dataset_info=dataset_info,\n",
    "        kpt_score_thr=kpt_thr,\n",
    "        radius=radius,\n",
    "        thickness=thickness,\n",
    "        show=False,\n",
    "    )\n",
    "\n",
    "    if show:\n",
    "        cv2.imshow(\"Frame\", vis_frame)\n",
    "\n",
    "    if save_out_video:\n",
    "        videoWriter.write(vis_frame)\n",
    "\n",
    "    if show and cv2.waitKey(1) & 0xFF == ord(\"q\"):\n",
    "        break\n",
    "\n",
    "if save_out_video:\n",
    "    videoWriter.release()\n",
    "if show:\n",
    "    cv2.destroyAllWindows()"
   ]
  },
  {
   "cell_type": "code",
   "execution_count": null,
   "metadata": {},
   "outputs": [],
   "source": [
    "import pickle\n",
    "\n",
    "with open(\"./output/keypoint.pickle\", mode='wb') as f:\n",
    "    pickle.dump(key_points, f)\n"
   ]
  },
  {
   "cell_type": "code",
   "execution_count": null,
   "metadata": {},
   "outputs": [],
   "source": []
  }
 ],
 "metadata": {
  "kernelspec": {
   "display_name": "Python 3.8.15 ('openmmlab')",
   "language": "python",
   "name": "python3"
  },
  "language_info": {
   "codemirror_mode": {
    "name": "ipython",
    "version": 3
   },
   "file_extension": ".py",
   "mimetype": "text/x-python",
   "name": "python",
   "nbconvert_exporter": "python",
   "pygments_lexer": "ipython3",
   "version": "3.8.15"
  },
  "orig_nbformat": 4,
  "vscode": {
   "interpreter": {
    "hash": "ad923cd02823043e79370dda0204fad440316bc10e98c6fc87f3546218dcca98"
   }
  }
 },
 "nbformat": 4,
 "nbformat_minor": 2
}
